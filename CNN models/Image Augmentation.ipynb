{
 "cells": [
  {
   "cell_type": "markdown",
   "metadata": {},
   "source": [
    "Theres a problem with models that aren't using image augmentation.\n",
    "- For example, miscategorization of a woman with a horse because the training set didn't include any images of people in that [[pse.\n",
    "\n",
    "Image Augmentation is one of the way to deal with such problems.\n",
    "- The idea is, as Tensorflow is loading your data, it can create additional new data by amending what it has using a number of transforms.\n",
    "- You can broaden the training set with a variety of other transformations, including:\n",
    "  * Rotation\n",
    "  * Shifting horizontally\n",
    "  * Shifting vertically\n",
    "  * Shearing\n",
    "  * Zooming\n",
    "  * Flipping"
   ]
  },
  {
   "cell_type": "code",
   "execution_count": null,
   "metadata": {},
   "outputs": [],
   "source": [
    "# We've been using ImageDataGenerator to load the images. We've been using it to normalzie the image like\n",
    "# train_datagen = ImageDataGenerator(rescale = 1/255)\n",
    "\n",
    "# For example, this is how we can implement Image Augmentation\n",
    "train_datagen = ImageDataGenerator(\n",
    "    rescale = 1/255,\n",
    "    rotation_range = 40,\n",
    "    width_shift_range = 0.2,\n",
    "    height_shift_range = 0.2,\n",
    "    shear_range = 0.2,\n",
    "    zoom_range = 0.2,\n",
    "    horizontal_flip = True,\n",
    "    fill_mode = 'nearest'\n",
    ")\n",
    "\n",
    "# This section of code means that its:-\n",
    "\"\"\"\n",
    "- Rotating each image randomly up to 40 degrees left or right\n",
    "- Translating the image up to 20% vertically or horizontally\n",
    "- Shearing the image by up to 20%\n",
    "- Zooming the image by up to 20%\n",
    "- Randomly flipping the image horizontally or vertically\n",
    "- Filling in any missing pixels after a move or shear with nearest neighbors\n",
    "\"\"\""
   ]
  }
 ],
 "metadata": {
  "language_info": {
   "name": "python"
  },
  "orig_nbformat": 4
 },
 "nbformat": 4,
 "nbformat_minor": 2
}
