{
 "cells": [
  {
   "cell_type": "code",
   "execution_count": 1,
   "metadata": {},
   "outputs": [],
   "source": [
    "import tensorflow as tf \n",
    "from tensorflow.keras.datasets import fashion_mnist # Dataset library from tensorflow\n",
    "from tensorflow.keras.models import Sequential\n",
    "from tensorflow.keras.layers import Flatten, Dense\n",
    "from tensorflow.nn import relu, softmax"
   ]
  },
  {
   "cell_type": "markdown",
   "metadata": {},
   "source": [
    "Sequential() \n",
    "- groups a linear stack of layers, the neurons are defined as paramenters.\n",
    "activation = relu \n",
    "- returns a value if the value is > 0\n",
    "activation = soft_nmax\n",
    "- returns the highest value between all the neurons\n",
    "\n",
    "Dividing data_pixels by 255.0 is to ensure all the values are between 0 and 1. This process is called normalizing the image. (Normalization will improve training performance)\n",
    "\n",
    "optimizer = 'adam'\n",
    "- adam optimizer is an evolution of the sgd optimizer, it is to be faster and more efficient as we're handling 60,000 training images.\n",
    "loss = 'sparse_categoriacal_crossentropy'\n",
    "- Instead of us trying to presict a single number, here we're picking a category, and thus using a categorial loss function is the way to go\n",
    "metrics = ['accuracy']\n",
    "- We want to report back on the accuracy of the network as we're training"
   ]
  },
  {
   "cell_type": "code",
   "execution_count": null,
   "metadata": {},
   "outputs": [],
   "source": [
    "# Handling Data\n",
    "data = fashion_mnist\n",
    "\n",
    "# Training-Test-Split\n",
    "(training_images, training_labels), (test_images, test_labels) = data.load_data()\n",
    "\n",
    "training_images = training_images / 255.0\n",
    "test_images = test_images / 255.0\n",
    "\n",
    "\n",
    "model = Sequential([\n",
    "    Flatten(input_shape = (28, 28)), # Input Layer\n",
    "    Dense(128, activation = relu),   # Hidden Layer\n",
    "    Dense(10, activation = softmax) # Output Layer\n",
    "])\n",
    "\n",
    "model.compile(optimizer = 'adam', loss = 'sparse_categorical_crossentropy', metrics = ['accuracy'])\n",
    "\n",
    "model.fit(training_images, training_labels, epochs = 15)\n",
    "\n",
    "# Pass new data into trained model to evaluate its accuracy\n",
    "model.evaluate(test_images, test_labels)"
   ]
  },
  {
   "cell_type": "markdown",
   "metadata": {},
   "source": [
    "output:\n",
    "[1.0147033e-07 4.9990494e-12 6.5030681e-10 5.5356242e-10 6.1801899e-08\n",
    " 7.0539312e-03 3.2008558e-07 4.1612878e-02 1.0367152e-08 9.5133269e-01]\n",
    "9\n",
    "\n",
    "- As we can see the value of array index 9 is the largest compared to all other elements\n",
    "- These are the probabilities that the image matches the label at the particular index\n",
    "- So what the neural network is reporting that there is a 95.1% chance that the item of clothing index 0 is label 9."
   ]
  },
  {
   "cell_type": "code",
   "execution_count": 11,
   "metadata": {},
   "outputs": [
    {
     "name": "stdout",
     "output_type": "stream",
     "text": [
      "[1.0147033e-07 4.9990494e-12 6.5030681e-10 5.5356242e-10 6.1801899e-08\n",
      " 7.0539312e-03 3.2008558e-07 4.1612878e-02 1.0367152e-08 9.5133269e-01]\n",
      "9\n"
     ]
    }
   ],
   "source": [
    "# Exploring The Model Output\n",
    "\n",
    "# This returns a whole array of the predicted values\n",
    "classifications = model.predict(test_images)\n",
    "\n",
    "# Checking for the first prediction\n",
    "print(classifications[0])\n",
    "print(test_labels[0])"
   ]
  }
 ],
 "metadata": {
  "interpreter": {
   "hash": "86024da591e1644f8f97b04427dfc49d410526f78c619fda20415da69f0ecd62"
  },
  "kernelspec": {
   "display_name": "Python 3.9.7 64-bit",
   "language": "python",
   "name": "python3"
  },
  "language_info": {
   "codemirror_mode": {
    "name": "ipython",
    "version": 3
   },
   "file_extension": ".py",
   "mimetype": "text/x-python",
   "name": "python",
   "nbconvert_exporter": "python",
   "pygments_lexer": "ipython3",
   "version": "3.9.7"
  },
  "orig_nbformat": 4
 },
 "nbformat": 4,
 "nbformat_minor": 2
}
