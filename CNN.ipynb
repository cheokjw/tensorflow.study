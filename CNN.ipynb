{
 "cells": [
  {
   "cell_type": "markdown",
   "metadata": {},
   "source": [
    "Convolution\n",
    "- a filter of weights that are used to mulyiply a pixel with its neighbours to get a new value for the pixel\n",
    "- With this, we can potentially learn a set of filters that reduce the image to features. Combined with pooling, we can reduce the amount of information in the image while maintaining the features\n",
    "\n",
    "Eg:\n",
    "Image pixels             Filter\n",
    "[[0, 64, 128],          [[-1, 0, -2],\n",
    " [48, 192, 144],         [0.5, 4.5, -1.5],\n",
    " [142, 226, 168]]        [1.5, 2, -3]]\n",
    "\n",
    "Convolution formula = (-1 * 0) + (0 * 64) + (-2 * 128) +\n",
    "                      (0.5 * 48) + (4.5 * 192) + (-1.5 * 144) +\n",
    "                      (1.5 * 142) + (2 * 226) + (-3 * 168)\n",
    "- This equals to 577 which will be the new value for that pixel. Repeating this process across every pixel in the image will give us a filtered image"
   ]
  },
  {
   "cell_type": "markdown",
   "metadata": {},
   "source": [
    "Pooling\n",
    "- Pooling is the process of eliminating picels in the images while maintaining the semantics of the content within the image.\n",
    "\n",
    "1) Max pooling\n",
    "Image pixel (Total of 16 pixels)\n",
    "[[0, 64, 128, 128],\n",
    " [48, 192, 144, 144],\n",
    " [142, 226, 168, 0],\n",
    " [255, 0, 0, 64]\n",
    "]\n",
    "\n",
    "Then the pooling algorithm seperate the pixels into four equal parts, then the maximum value for each groups are selected\n",
    "[[0, 64],         [[128, 128],          [[142, 226]         [[168, 0],          \n",
    " [48, 192]]        [144, 144]]           [255, 0]]           [0, 64]]\n",
    "\n",
    "New pixel = [\n",
    "    [192, 144],\n",
    "    [255, 168]\n",
    "]\n",
    "\n",
    "- The filtered features is further enhanced and also, the image size has changed from 512 * 512 to 256 * 256"
   ]
  },
  {
   "cell_type": "code",
   "execution_count": 2,
   "metadata": {},
   "outputs": [],
   "source": [
    "# Implementing CNN with max pooling\n",
    "import tensorflow as tf\n",
    "from tensorflow.keras import Sequential\n",
    "from tensorflow.nn import relu, softmax\n",
    "from tensorflow.keras.layers import Flatten, Dense, Conv2D, MaxPooling2D\n",
    "from tensorflow.keras.datasets import fashion_mnist\n",
    "from tensorflow.keras.callbacks import Callback"
   ]
  },
  {
   "cell_type": "code",
   "execution_count": 16,
   "metadata": {},
   "outputs": [],
   "source": [
    "# Callback class\n",
    "class myCallback(Callback):\n",
    "    def on_epoch_end(self, epoch, logs={}):\n",
    "        if (logs.get('accuracy') > 0.95):\n",
    "            print(\"Accuracy reached 95%!!! Stopping Training....\")\n",
    "            self.model.stop_training = True "
   ]
  },
  {
   "cell_type": "code",
   "execution_count": 17,
   "metadata": {},
   "outputs": [
    {
     "name": "stdout",
     "output_type": "stream",
     "text": [
      "Epoch 1/50\n",
      "1875/1875 [==============================] - 38s 20ms/step - loss: 0.4449 - accuracy: 0.8390\n",
      "Epoch 2/50\n",
      "1875/1875 [==============================] - 38s 20ms/step - loss: 0.2979 - accuracy: 0.8910\n",
      "Epoch 3/50\n",
      "1875/1875 [==============================] - 38s 20ms/step - loss: 0.2521 - accuracy: 0.9060\n",
      "Epoch 4/50\n",
      "1875/1875 [==============================] - 38s 20ms/step - loss: 0.2175 - accuracy: 0.9191\n",
      "Epoch 5/50\n",
      "1875/1875 [==============================] - 38s 20ms/step - loss: 0.1919 - accuracy: 0.9280\n",
      "Epoch 6/50\n",
      "1875/1875 [==============================] - 38s 20ms/step - loss: 0.1689 - accuracy: 0.9364\n",
      "Epoch 7/50\n",
      "1875/1875 [==============================] - 40s 21ms/step - loss: 0.1473 - accuracy: 0.9442\n",
      "Epoch 8/50\n",
      "1874/1875 [============================>.] - ETA: 0s - loss: 0.1295 - accuracy: 0.9510Accuracy reached 95%!!! Stopping Training....\n",
      "1875/1875 [==============================] - 41s 22ms/step - loss: 0.1295 - accuracy: 0.9510\n"
     ]
    },
    {
     "ename": "NameError",
     "evalue": "name 'test_images' is not defined",
     "output_type": "error",
     "traceback": [
      "\u001b[1;31m---------------------------------------------------------------------------\u001b[0m",
      "\u001b[1;31mNameError\u001b[0m                                 Traceback (most recent call last)",
      "\u001b[1;32m~\\AppData\\Local\\Temp/ipykernel_22848/1194084728.py\u001b[0m in \u001b[0;36m<module>\u001b[1;34m\u001b[0m\n\u001b[0;32m     29\u001b[0m \u001b[0mmodel\u001b[0m\u001b[1;33m.\u001b[0m\u001b[0mfit\u001b[0m\u001b[1;33m(\u001b[0m\u001b[0mtraining_features\u001b[0m\u001b[1;33m,\u001b[0m \u001b[0mtraining_labels\u001b[0m\u001b[1;33m,\u001b[0m \u001b[0mepochs\u001b[0m \u001b[1;33m=\u001b[0m \u001b[1;36m50\u001b[0m\u001b[1;33m,\u001b[0m \u001b[0mcallbacks\u001b[0m \u001b[1;33m=\u001b[0m \u001b[1;33m[\u001b[0m\u001b[0mcallbacks\u001b[0m\u001b[1;33m]\u001b[0m\u001b[1;33m)\u001b[0m\u001b[1;33m\u001b[0m\u001b[1;33m\u001b[0m\u001b[0m\n\u001b[0;32m     30\u001b[0m \u001b[1;33m\u001b[0m\u001b[0m\n\u001b[1;32m---> 31\u001b[1;33m \u001b[0mmodel\u001b[0m\u001b[1;33m.\u001b[0m\u001b[0mevaluate\u001b[0m\u001b[1;33m(\u001b[0m\u001b[0mtest_images\u001b[0m\u001b[1;33m,\u001b[0m \u001b[0mtest_labels\u001b[0m\u001b[1;33m)\u001b[0m\u001b[1;33m\u001b[0m\u001b[1;33m\u001b[0m\u001b[0m\n\u001b[0m\u001b[0;32m     32\u001b[0m \u001b[1;33m\u001b[0m\u001b[0m\n\u001b[0;32m     33\u001b[0m \u001b[0mclassifications\u001b[0m \u001b[1;33m=\u001b[0m \u001b[0mmodel\u001b[0m\u001b[1;33m.\u001b[0m\u001b[0mpredict\u001b[0m\u001b[1;33m(\u001b[0m\u001b[0mtest_images\u001b[0m\u001b[1;33m)\u001b[0m\u001b[1;33m\u001b[0m\u001b[1;33m\u001b[0m\u001b[0m\n",
      "\u001b[1;31mNameError\u001b[0m: name 'test_images' is not defined"
     ]
    }
   ],
   "source": [
    "data = fashion_mnist\n",
    "callbacks = myCallback()\n",
    "\n",
    "(training_features, training_labels), (testing_features, testing_labels) = data.load_data()\n",
    "\n",
    "# Reshaping the data so it fits into the model\n",
    "training_features = training_features.reshape(60000, 28, 28, 1)\n",
    "training_features = training_features / 255.0\n",
    "testing_features = testing_features.reshape(10000, 28, 28, 1)\n",
    "testing_features = testing_features / 255.0\n",
    "\n",
    "\n",
    "# Creating Model\n",
    "model = Sequential([\n",
    "    Conv2D(64, (3, 3), activation = 'relu', input_shape = (28, 28, 1)),\n",
    "    MaxPooling2D(2, 2),\n",
    "    Conv2D(64, (3, 3), activation = 'relu', input_shape = (28, 28, 1)),\n",
    "    MaxPooling2D(2, 2),\n",
    "    Flatten(),\n",
    "    Dense(128, activation = relu),\n",
    "    Dense(10, activation = softmax)\n",
    "\n",
    "])\n",
    "\n",
    "# Compiling Model\n",
    "model.compile(optimizer = 'adam', loss = 'sparse_categorical_crossentropy', metrics = ['accuracy'])\n",
    "\n",
    "# Training Model\n",
    "model.fit(training_features, training_labels, epochs = 50, callbacks = [callbacks])\n",
    "\n",
    "model.evaluate(test_images, test_labels)\n",
    "\n",
    "classifications = model.predict(test_images)\n",
    "print(f\"Model predictions : {classifications[0]}\")\n",
    "print(f\"Actual Answer : {classifications[0]}\")\n"
   ]
  }
 ],
 "metadata": {
  "interpreter": {
   "hash": "86024da591e1644f8f97b04427dfc49d410526f78c619fda20415da69f0ecd62"
  },
  "kernelspec": {
   "display_name": "Python 3.9.7 64-bit",
   "language": "python",
   "name": "python3"
  },
  "language_info": {
   "codemirror_mode": {
    "name": "ipython",
    "version": 3
   },
   "file_extension": ".py",
   "mimetype": "text/x-python",
   "name": "python",
   "nbconvert_exporter": "python",
   "pygments_lexer": "ipython3",
   "version": "3.9.7"
  },
  "orig_nbformat": 4
 },
 "nbformat": 4,
 "nbformat_minor": 2
}
