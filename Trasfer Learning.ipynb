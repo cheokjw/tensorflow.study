{
 "cells": [
  {
   "cell_type": "markdown",
   "metadata": {},
   "source": [
    "Transfer Learning\n",
    "- Instead of training a model from scratch, we can use a set of filters that were learned on a much larger dataset.\n",
    "- We can place these in our network and then train a model with our data using the prelearned filters.\n",
    "- We can take the prelearned layers from another model, freeze, or lock them so that they aren't trainable, and then put them on top of our model"
   ]
  },
  {
   "cell_type": "code",
   "execution_count": null,
   "metadata": {},
   "outputs": [],
   "source": [
    "# We'll use version 3 of the popular Inception model from Google, which has trained on more than a million images into one thousand categories.\n",
    "# To use this, we simply download the weights\n",
    "from tensorflow.keras.application.inception_v3 import InceptionV3\n",
    "\n",
    "weights_url = \"https://storage.googleapis.com/mledu-datasets/inception_c3_weights_tf_dim_ordering_tf_kernels_notop.h5\"\n",
    "\n",
    "weights_file = \"inception_v3.h5\"\n",
    "urllib.request.urlretrieve(weights_url, weights_file)\n",
    "\n",
    "pre_trained_model = InceptionV3(input_shape = (150, 150, 3),\n",
    "                                include_top = False,\n",
    "                                weights = None)\n",
    "\n",
    "pre_trained_model.load_weights(weights_file)\n",
    "\n",
    "# Freeze the entire network from retraining and then set a variable \n",
    "for layers in pre_trained_model.layers:\n",
    "    layer.trainable = False \n",
    "\n",
    "last_layer = pre_trained_model.get_layer('mixed7')\n",
    "print(f'last layer output shape: {last_layer.output_shape}')\n",
    "last_output = last_layer.output\n",
    "\n",
    "\n",
    "# Adding own layer to pretrained models\n",
    "x = layers.Flatten()(last_output)\n",
    "x = layers.Dense(1024, activation = 'relu')(x)\n",
    "x = layers.Dense(1, activation = 'sigmoid')(x)"
   ]
  },
  {
   "cell_type": "code",
   "execution_count": null,
   "metadata": {},
   "outputs": [],
   "source": [
    "# inspect architechture\n",
    "pre_trained_model.summary()"
   ]
  }
 ],
 "metadata": {
  "interpreter": {
   "hash": "86024da591e1644f8f97b04427dfc49d410526f78c619fda20415da69f0ecd62"
  },
  "kernelspec": {
   "display_name": "Python 3.9.7 64-bit",
   "language": "python",
   "name": "python3"
  },
  "language_info": {
   "codemirror_mode": {
    "name": "ipython",
    "version": 3
   },
   "file_extension": ".py",
   "mimetype": "text/x-python",
   "name": "python",
   "nbconvert_exporter": "python",
   "pygments_lexer": "ipython3",
   "version": "3.9.7"
  },
  "orig_nbformat": 4
 },
 "nbformat": 4,
 "nbformat_minor": 2
}
